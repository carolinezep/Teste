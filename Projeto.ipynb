{
  "cells": [
    {
      "cell_type": "markdown",
      "metadata": {
        "id": "view-in-github",
        "colab_type": "text"
      },
      "source": [
        "<a href=\"https://colab.research.google.com/github/carolinezep/Teste/blob/master/Projeto.ipynb\" target=\"_parent\"><img src=\"https://colab.research.google.com/assets/colab-badge.svg\" alt=\"Open In Colab\"/></a>"
      ]
    },
    {
      "cell_type": "code",
      "execution_count": 58,
      "metadata": {
        "id": "89EzlWBCC9go"
      },
      "outputs": [],
      "source": [
        "#!pip install google-genai\n",
        "#!pip install --upgrade google-generativeai\n",
        "import sqlite3\n",
        "import os\n",
        "\n",
        "from google.colab import userdata\n",
        "#userdata.get('GOOGLE_API_KEY_1')\n",
        "\n",
        "os.environ['GOOGLE_API_KEY_1'] = userdata.get('GOOGLE_API_KEY_1')\n",
        "os.environ['cliente_id'] = userdata.get('cliente_id')\n"
      ]
    },
    {
      "cell_type": "code",
      "execution_count": 59,
      "metadata": {
        "id": "ttkWBEBRCqU9"
      },
      "outputs": [],
      "source": [
        "from google import genai\n",
        "\n",
        "# Get the API key from the environment variable\n",
        "api_key = os.getenv('GOOGLE_API_KEY_1')\n",
        "# Get the API key from the environment variable\n",
        "api_key_2 = os.getenv('cliente_id')\n",
        "\n",
        "# Initialize the client with the API key\n",
        "client = genai.Client(api_key=api_key)\n",
        "\n",
        "from google.genai import types\n",
        "modelo = \"gemini-2.0-flash\"\n",
        "\n",
        "chat_config = types.GenerateContentConfig(\n",
        "    system_instruction = \"Você é um assistente pessoal que lida com pais e maes de bebe e que é especialista na área e você sempre responde de forma sucinta.\",\n",
        ")\n",
        "chat = client.chats.create(model=modelo, config=chat_config)"
      ]
    },
    {
      "cell_type": "code",
      "source": [
        "# Instala as bibliotecas necessárias\n",
        "# Certifique-se de executar esta célula no início do seu notebook\n",
        "#!pip install --upgrade google-auth-oauthlib\n",
        "#!pip install --upgrade google-api-python-client google-auth-httplib2 google-auth-oauthlib\n",
        "#!pip install pandas\n",
        "from IPython.display import display, HTML\n",
        "import google.auth\n",
        "from googleapiclient.discovery import build\n",
        "from google.oauth2.credentials import Credentials\n",
        "import datetime\n",
        "import os\n",
        "import json\n",
        "import google.auth\n",
        "import google.colab\n",
        "import pandas as pd # Import pandas at the top level\n",
        "\n",
        "# Importa a biblioteca para acessar os secrets do Colab\n",
        "import google_auth_oauthlib.flow\n",
        "import google.auth.transport.requests\n",
        "# Explicitly import auth from google.colab\n",
        "from google.colab import auth\n",
        "\n",
        "\n",
        "# Escopos necessários para acessar o Google Calendar\n",
        "SCOPES = ['https://www.googleapis.com/auth/calendar','https://www.googleapis.com/auth/calendar.events']\n",
        "\n",
        "# Define TOKEN_FILE in a broader scope\n",
        "TOKEN_FILE = 'token.json'\n",
        "\n",
        "def get_google_credentials():\n",
        "    \"\"\"Obtém credenciais do Google Calendar usando Colab Secrets e Google Colab auth.\"\"\"\n",
        "    creds = None\n",
        "\n",
        "    # O arquivo token.json salva os tokens de acesso e atualização do usuário.\n",
        "    # Tenta carregar as credenciais de um token salvo anteriormente\n",
        "    # Only attempt to load if the file exists\n",
        "    if os.path.exists(TOKEN_FILE):\n",
        "        try:\n",
        "            creds = Credentials.from_authorized_user_file(TOKEN_FILE, SCOPES)\n",
        "            print(f\"Token carregado de {TOKEN_FILE}.\")\n",
        "            # Check if the loaded credentials are valid and have the correct scopes\n",
        "            if creds and creds.valid and creds.has_scopes(SCOPES):\n",
        "                 print(\"Token carregado é válido e tem escopos corretos.\")\n",
        "                 return creds # Return valid credentials\n",
        "            else:\n",
        "                 print(\"Token carregado é inválido ou não tem escopos corretos. Forçando nova autenticação.\")\n",
        "                 creds = None # Force re-authentication\n",
        "        except Exception as e:\n",
        "            print(f\"Erro ao carregar ou validar token salvo ({TOKEN_FILE}): {e}\")\n",
        "            creds = None # Force re-authentication\n",
        "\n",
        "    # If no valid credentials were loaded from the token file, or if it failed/was insufficient,\n",
        "    # initiate the authorization flow using google.colab.auth\n",
        "    if not creds or not creds.valid or not creds.has_scopes(SCOPES):\n",
        "        print(\"Nenhuma credencial válida com os escopos necessários encontrada. Iniciando fluxo de autorização do Colab...\")\n",
        "        try:\n",
        "            # Use google.colab.auth for authentication in Colab\n",
        "            # This will provide an authorization URL and handle the redirect\n",
        "            auth.authenticate_user(SCOPES) # Pass the list of scopes\n",
        "            # After successful authentication, authenticate_user sets the default credentials\n",
        "            # which can be obtained using google.auth.default()\n",
        "            creds, project = google.auth.default()\n",
        "            print(\"Fluxo de autorização do Colab concluído com sucesso.\")\n",
        "\n",
        "        except Exception as e:\n",
        "            print(f\"Ocorreu um erro durante o fluxo de autorização do Colab: {e}\")\n",
        "            return None # Retorna None em caso de erros\n",
        "\n",
        "\n",
        "        # Salva as credenciais (incluindo o refresh token) para a próxima execução, se bem-sucedido\n",
        "        # Note: In Colab, saving to a local file might not be persistent unless\n",
        "        # you save to Google Drive or use Colab's built-in file management.\n",
        "        if creds and creds.valid and creds.has_scopes(SCOPES):\n",
        "            try:\n",
        "                with open(TOKEN_FILE, 'w') as token:\n",
        "                    token.write(creds.to_json())\n",
        "                print(f\"Novas credenciais salvas em {TOKEN_FILE}.\")\n",
        "            except Exception as e:\n",
        "                print(f\"Erro ao salvar token: {e}\")\n",
        "        else:\n",
        "             print(\"As novas credenciais obtidas após o fluxo de autorização não contêm os escopos necessários.\")\n",
        "             return None # Return None if the newly obtained credentials also lack scopes\n",
        "\n",
        "\n",
        "    return creds # Retorna as credenciais obtidas ou None se falhou\n",
        "\n",
        "\n",
        "def agendar_vacina(nome_vacina, data_vacina_str):\n",
        "    \"\"\"Agenda um evento no Google Calendar.\"\"\"\n",
        "\n",
        "    # Chama a função para obter as credenciais\n",
        "    creds = get_google_credentials()\n",
        "\n",
        "    if not creds:\n",
        "        print(\"Não foi possível obter credenciais. Não é possível agendar o evento no Google Calendar.\")\n",
        "        return\n",
        "\n",
        "    try:\n",
        "        # Constrói o serviço do Google Calendar\n",
        "        service = build('calendar', 'v3', credentials=creds)\n",
        "\n",
        "        # Formata a data para o formato do Google Calendar (YYYY-MM-DD ou dateTime)\n",
        "        try:\n",
        "            data_obj = datetime.datetime.strptime(data_vacina_str, '%Y-%m-%d')\n",
        "            # Configura o evento para durar 1 hora no início do dia especificado\n",
        "            start_time = data_obj.isoformat() + '+00:00' # Adiciona timezone UTC\n",
        "            end_time = (data_obj + datetime.timedelta(hours=1)).isoformat() + '+00:00'\n",
        "            # Se preferir um evento de dia inteiro, descomente as linhas abaixo e comente as acima:\n",
        "            # start_dict = {'date': data_vacina_str}\n",
        "            # end_dict = {'date': (data_obj + datetime.timedelta(days=1)).strftime('%Y-%m-%d')} # Evento de dia inteiro termina no início do dia seguinte\n",
        "\n",
        "        except ValueError:\n",
        "            print(\"Formato de data inválido. Use YYYY-MM-DD.\")\n",
        "            return\n",
        "\n",
        "        event = {\n",
        "            'summary': f'Vacina: {nome_vacina}',\n",
        "            'start': {\n",
        "                'dateTime': start_time, # Use 'date' aqui se for evento de dia inteiro\n",
        "                'timeZone': 'America/Sao_Paulo', # Ajuste para o seu timezone\n",
        "            },\n",
        "            'end': {\n",
        "                'dateTime': end_time, # Use 'date' aqui se for evento de dia inteiro\n",
        "                'timeZone': 'America/Sao_Paulo',# Ajuste para o seu timezone\n",
        "            },\n",
        "            'reminders': {\n",
        "                'useDefault': False,\n",
        "                'overrides': [\n",
        "                    {'method': 'popup', 'minutes': 30}, # Lembrete 30 minutos antes\n",
        "                ],\n",
        "            },\n",
        "        }\n",
        "\n",
        "        # Insere o evento no calendário principal\n",
        "        created_event = service.events().insert(calendarId='primary', body=event).execute()\n",
        "        print('Evento criado no Google Calendar: %s' % (created_event.get('htmlLink')))\n",
        "\n",
        "    except Exception as e:\n",
        "        print(f'Ocorreu um erro ao agendar no Google Calendar: {e}')\n",
        "\n",
        "# Moved the function outside assistente_virtual and corrected indentation\n",
        "def fornecer_frase_motivacional():\n",
        "   try:\n",
        "      frases_df = pd.read_csv('frases_motivacionais')\n",
        "      frase = frases_df.sample(n=1)['Frases'].values[0]\n",
        "      return frase # Return the phrase\n",
        "   except Exception as e:\n",
        "        print(f\"Erro ao ler o arquivo CSV: {e}\")\n",
        "        return 'Você está fazendo um belo trabalho como pai/mãe' # Return a default phrase\n",
        "\n",
        "def assistente_virtual():\n",
        "\n",
        "    display(HTML(\"<h2 style='color: #FF6347;'>👋 Olá, eu sou sua rede de apoio virtual e estou aqui para te ajudar! 🌟</h2>\"))\n",
        "    idade = input(\"Quantos meses tem o seu bebê?🍼\")\n",
        "\n",
        "    try:\n",
        "        idade_bebe = int(idade)\n",
        "        if idade_bebe <= 0:\n",
        "            display(HTML(\"<p style='color: #4682B4;'>❗ Idade inválida. Por favor, insira uma idade maior que 0.</p>\"))\n",
        "        else:\n",
        "            display(HTML(f\"<h2 style='color: #4682B4;'>🎉 Seu bebê tem {idade_bebe} meses! 🎉</h2>\"))\n",
        "\n",
        "            # >>> SEU CÓDIGO PARA EXIBIR INFORMAÇÕES DE CUIDADOS COM O BEBÊ BASEADO NA IDADE <<<\n",
        "            # Faixa etária de 0 a 2 meses\n",
        "            if 0 <= idade_bebe <= 2:\n",
        "                display(HTML(\"<h3 style='color: #4682B4;'>**Cuidados com Bebê de 0 a 2 meses** 🛏️</h3>\"))\n",
        "                display(HTML(\"<ul><li>🌙 Sono: O bebê dorme entre 14-17 horas por dia.</li></ul>\"))\n",
        "                display(HTML(\"<ul><li>🥛 Alimentação: Leite materno ou fórmula a cada 2-3 horas.</li></ul>\"))\n",
        "                display(HTML(\"<ul><li>🧸 Brincadeiras: Converse, cante e faça sons suaves.</li></ul>\"))\n",
        "                display(HTML(\"<ul><li>💉 Vacinas: Acompanhe a vacinação do seu bebê.</li></ul>\"))\n",
        "\n",
        "            # Faixa etária de 3 a 4 meses\n",
        "            elif 3 <= idade_bebe <= 4:\n",
        "                display(HTML(\"<h3 style='color: #4682B4;'>**Cuidados com Bebê de 3 a 4 meses** 🧸</h3>\"))\n",
        "                display(HTML(\"<ul><li>🌙 Sono: O bebê dorme entre 12-16 horas por dia.</li></ul>\"))\n",
        "                display(HTML(\"<ul><li>🥛 Alimentação: Introdução alimentar com papinhas.</li></ul>\"))\n",
        "                display(HTML(\"<ul><li>🧸 Brincadeiras: Brinquedos coloridos ajudam no desenvolvimento.</li></ul>\"))\n",
        "                display(HTML(\"<ul><li>💉 Vacinas: Lembre-se de seguir o calendário de vacinas.</li></ul>\"))\n",
        "\n",
        "            # Faixa etária de 5 a 6 meses\n",
        "            elif 5 <= idade_bebe <= 6:\n",
        "                display(HTML(\"<h3 style='color: #4682B4;'>**Cuidados com Bebê de 5 a 6 meses** 🧸</h3>\"))\n",
        "                display(HTML(\"<ul><li>🌙 Sono: O bebê pode dormir entre 12-16 horas por dia.</li></ul>\"))\n",
        "                display(HTML(\"<ul><li>🥛 Alimentação: Introdução alimentar com papinhas de legumes e frutas.</li></ul>\"))\n",
        "                display(HTML(\"<ul><li>🧸 Desenvolvimento: O bebê pode começar a virar de barriga para baixo.</li></ul>\"))\n",
        "                display(HTML(\"<ul><li>💉 Vacinas: Acompanhe as vacinas recomendadas.</li></ul>\"))\n",
        "\n",
        "            # Faixa etária de 7 a 8 meses\n",
        "            elif 7 <= idade_bebe <= 8:\n",
        "                display(HTML(\"<h3 style='color: #4682B4;'>**Cuidados com Bebê de 7 a 8 meses** 🧸</h3>\"))\n",
        "                display(HTML(\"<ul><li>🌙 Sono: O bebê pode dormir entre 12-14 horas por dia, com cochilos.</li></ul>\"))\n",
        "                display(HTML(\"<ul><li>🥛 Alimentação: Continue com a introdução alimentar.</li></ul>\"))\n",
        "                display(HTML(\"<ul><li>🧸 Desenvolvimento: O bebê pode começar a engatinhar e explorar o ambiente.</li></ul>\"))\n",
        "                display(HTML(\"<ul><li>💉 Vacinas: Verifique o calendário de vacinas.</li></ul>\"))\n",
        "\n",
        "            # Faixa etária de 9 a 10 meses\n",
        "            elif 9 <= idade_bebe <= 10:\n",
        "                display(HTML(\"<h3 style='color: #4682B4;'>**Cuidados com Bebê de 9 a 10 meses** 🧸</h3>\"))\n",
        "                display(HTML(\"<ul><li>🌙 Sono: O bebê pode dormir entre 12-14 horas por dia.</li></ul>\"))\n",
        "                display(HTML(\"<ul><li>🥛 Alimentação: Alimentos mais sólidos e variados.</li></ul>\"))\n",
        "                display(HTML(\"<ul><li>🧸 Desenvolvimento: O bebê pode já estar engatinhando ou até começando a andar com apoio.</li></ul>\"))\n",
        "                display(HTML(\"<ul><li>💉 Vacinas: Lembre-se de manter a vacinação em dia.</li></ul>\"))\n",
        "\n",
        "            # Faixa etária de 11 a 12 meses\n",
        "            elif 11 <= idade_bebe <= 12:\n",
        "                display(HTML(\"<h3 style='color: #4682B4;'>**Cuidados com Bebê de 11 a 12 meses** 🧸</h3>\"))\n",
        "                display(HTML(\"<ul><li>🌙 Sono: O bebê pode dormir entre 12-14 horas por dia.</li></ul>\"))\n",
        "                display(HTML(\"<ul><li>🥛 Alimentação: Ofereça alimentos mais sólidos e variados.</li></ul>\"))\n",
        "                display(HTML(\"<ul><li>🧸 Desenvolvimento: O bebê pode começar a dar os primeiros passos ou a balbuciar palavras.</li></ul>\"))\n",
        "                display(HTML(\"<ul><li>💉 Vacinas: Verifique com o pediatra as vacinas recomendadas.</li></ul>\"))\n",
        "\n",
        "            # Faixa etária de 13 a 18 meses\n",
        "            elif 13 <= idade_bebe <= 18:\n",
        "                display(HTML(\"<h3 style='color: #4682B4;'>**Cuidados com Bebê de 13 a 18 meses** 🧸</h3>\"))\n",
        "                display(HTML(\"<ul><li>🌙 Sono: O bebê pode dormir entre 11-14 horas, incluindo cochilos.</li></ul>\"))\n",
        "                display(HTML(\"<ul><li>🥛 Alimentação: A alimentação deve ser bem variada e mais sólida.</li></ul>\"))\n",
        "                display(HTML(\"<ul><li>🧸 Desenvolvimento: O bebê pode começar a andar sem apoio e a falar algumas palavras.</li></ul>\"))\n",
        "                display(HTML(\"<ul><li>💉 Vacinas: Mantenha o calendário de vacinas em dia.</li></ul>\"))\n",
        "\n",
        "            # Faixa etária de 19 a 24 meses\n",
        "            elif 19 <= idade_bebe <= 24:\n",
        "                display(HTML(\"<h3 style='color: #4682B4;'>**Cuidados com Bebê de 19 a 24 meses** 🧸</h3>\"))\n",
        "                display(HTML(\"<ul><li>🌙 Sono: O bebê pode dormir entre 11-12 horas, com cochilos mais curtos.</li></ul>\"))\n",
        "                display(HTML(\"<ul><li>🥛 Alimentação: A alimentação deve ser bem balanceada e diversificada.</li></ul>\"))\n",
        "                display(HTML(\"<ul><li>🧸 Desenvolvimento: O bebê pode já andar e começar a falar frases simples.</li></ul>\"))\n",
        "                display(HTML(\"<ul><li>💉 Vacinas: Consulte o pediatra para as vacinas e check-ups.</li></ul>\"))\n",
        "\n",
        "            # --- Lógica para Vacinas e Agendamento ---\n",
        "            tem_vacina = False\n",
        "            nome_vacina_recomendada = \"\"\n",
        "            if idade_bebe == 0: # Ao nascer\n",
        "                nome_vacina_recomendada = \"BCG (dose única) e Hepatite B (1ª dose)\"\n",
        "                frase_motivacional = fornecer_frase_motivacional()\n",
        "                display(HTML(f\"<h3 style='color: #4682B4;'> {frase_motivacional}  </h2>\"))\n",
        "                tem_vacina = True\n",
        "\n",
        "            elif idade_bebe == 1:\n",
        "                 nome_vacina_recomendada = \"Hepatite B (2ª dose)\"\n",
        "                 frase_motivacional = fornecer_frase_motivacional()\n",
        "                 display(HTML(f\"<h3 style='color: #4682B4;'> {frase_motivacional}  </h2>\"))\n",
        "                 tem_vacina = True\n",
        "\n",
        "            elif idade_bebe == 2:\n",
        "                nome_vacina_recomendada = \"Pentavalente (DTP/Hib/Hep B - 1ª dose), VIP (Poliomielite inativada - 1ª dose), Pneumocócica 10V (1ª dose), Rotavírus (1ª dose)\"\n",
        "                frase_motivacional = fornecer_frase_motivacional()\n",
        "                display(HTML(f\"<h3 style='color: #4682B4;'> {frase_motivacional}  </h2>\"))\n",
        "                tem_vacina = True\n",
        "\n",
        "            elif idade_bebe == 3:\n",
        "                nome_vacina_recomendada = \"Meningocócica C (1ª dose)\"\n",
        "                frase_motivacional = fornecer_frase_motivacional()\n",
        "                display(HTML(f\"<h3 style='color: #4682B4;'> {frase_motivacional}  </h2>\"))\n",
        "                tem_vacina = True\n",
        "\n",
        "            elif idade_bebe == 4:\n",
        "                nome_vacina_recomendada = \"Pentavalente (DTP/Hib/Hep B - 2ª dose), VIP (Poliomielite inativada - 2ª dose), Pneumocócica 10V (2ª dose), Rotavírus (2ª dose)\"\n",
        "                frase_motivacional = fornecer_frase_motivacional()\n",
        "                display(HTML(f\"<h3 style='color: #4682B4;'> {frase_motivacional}  </h2>\"))\n",
        "                tem_vacina = True\n",
        "\n",
        "            elif idade_bebe == 5:\n",
        "                nome_vacina_recomendada = \"Meningocócica C (2ª dose)\"\n",
        "                frase_motivacional = fornecer_frase_motivacional()\n",
        "                display(HTML(f\"<h3 style='color: #4682B4;'> {frase_motivacional}  </h2>\"))\n",
        "                tem_vacina = True\n",
        "\n",
        "            elif idade_bebe == 6:\n",
        "                nome_vacina_recomendada = \"Covid19, Pentavalente (DTP/Hib/Hep B - 3ª dose), VIP (Poliomielite inativada - 3ª dose), Hepatite B (3ª dose - se o esquema com a Penta não for aplicado no mesmo momento)\"\n",
        "                frase_motivacional = fornecer_frase_motivacional()\n",
        "                display(HTML(f\"<h3 style='color: #4682B4;'> {frase_motivacional}  </h2>\"))\n",
        "                tem_vacina = True\n",
        "\n",
        "            elif idade_bebe == 7:\n",
        "                nome_vacina_recomendada = \"Covid19(2ª dose)\"\n",
        "                frase_motivacional = fornecer_frase_motivacional()\n",
        "                display(HTML(f\"<h3 style='color: #4682B4;'> {frase_motivacional}  </h2>\"))\n",
        "                tem_vacina = True\n",
        "            elif idade_bebe == 9:\n",
        "                nome_vacina_recomendada = \"Febre Amarela (dose inicial - dependendo da área de residência)\"\n",
        "                frase_motivacional = fornecer_frase_motivacional()\n",
        "                display(HTML(f\"<h3 style='color: #4682B4;'> {frase_motivacional}  </h2>\"))\n",
        "                tem_vacina = True\n",
        "\n",
        "            elif idade_bebe == 12: # 1 ano\n",
        "                nome_vacina_recomendada = \"Tríplice Viral (Sarampo, Caxumba, Rubéola - 1ª dose), Pneumocócica 10V (Reforço), Meningocócica C (Reforço)\"\n",
        "                frase_motivacional = fornecer_frase_motivacional()\n",
        "                display(HTML(f\"<h3 style='color: #4682B4;'> {frase_motivacional}  </h2>\"))\n",
        "                tem_vacina = True\n",
        "\n",
        "            elif idade_bebe == 15: # 1 ano e 3 meses\n",
        "                 nome_vacina_recomendada = \"DTP (Tríplice bacteriana - 1º reforço), VOP (Poliomielite oral - 1º reforço), Hepatite A (dose única), Tetra Viral (Sarampo, Caxumba, Rubéola, Varicela - dose única, substitui Tríplice Viral + Varicela)\"\n",
        "                 frase_motivacional = fornecer_frase_motivacional()\n",
        "                 display(HTML(f\"<h3 style='color: #4682B4;'> {frase_motivacional}  </h2>\"))\n",
        "                 tem_vacina = True\n",
        "\n",
        "            elif idade_bebe == 18: # 1 ano e 6 meses\n",
        "                 nome_vacina_recomendada = \"DTP (Tríplice bacteriana - 1º reforço - se não aplicada aos 15 meses), VOP (Poliomielite oral - 1º reforço - se não aplicada aos 15 meses)\"\n",
        "                 frase_motivacional = fornecer_frase_motivacional()\n",
        "                 display(HTML(f\"<h3 style='color: #4682B4;'> {frase_motivacional}  </h2>\"))\n",
        "                 tem_vacina = True\n",
        "\n",
        "            elif idade_bebe >= 19 and idade_bebe <= 24: # Entre 19 e 24 meses (1 ano e 7 meses a 2 anos)\n",
        "                 # Algumas vacinas que podem ser verificadas ou reforçadas nesta faixa, dependendo do esquema\n",
        "                 # É bom reforçar a importância de seguir o cartão de vacinação.\n",
        "                 nome_vacina_recomendada = \"Verificar calendário e cartão de vacinação para possíveis reforços ou doses pendentes (Ex: Varicela, Hepatite A - se esquema diferente). A vacina da Gripe é anual a partir dos 6 meses.\"\n",
        "                 frase_motivacional = fornecer_frase_motivacional()\n",
        "                 display(HTML(f\"<h3 style='color: #4682B4;'> {frase_motivacional}  </h2>\"))\n",
        "                 tem_vacina = True\n",
        "\n",
        "            else:\n",
        "                nome_vacina_recomendada = \"No momento, não há vacinas de rotina recomendadas para esta idade no calendário básico, mas verifique o cartão de vacinação para doses de reforço ou vacinas especiais. A vacina da Gripe é anual a partir dos 6 meses.\"\n",
        "\n",
        "            # Adicione mais condições para outras faixas etárias e vacinas recomendadas\n",
        "            # Exemplo:\n",
        "            # elif idade_bebe == 6:\n",
        "            #     nome_vacina_recomendada = \"Poliomielite (VIP), Pneumocócica 13 (conjugada), Rotavírus (humano)\"\n",
        "            #     tem_vacina = True\n",
        "\n",
        "            if tem_vacina:\n",
        "                display(HTML(f\"<p style='color: #228B22;'>💉 Para {idade_bebe} meses, as vacinas recomendadas podem incluir: **{nome_vacina_recomendada}**.</p>\"))\n",
        "                agendar = input(\"Deseja agendar uma vacina no Google Calendar? (sim/não): \").lower()\n",
        "                if agendar == 'sim':\n",
        "                    nome_vacina_agendar = input(\"Digite o nome da vacina para agendar: \")\n",
        "                    data_agendamento = input(\"Digite a data de agendamento (AAAA-MM-DD): \")\n",
        "                    # Call the scheduling function\n",
        "                    agendar_vacina(nome_vacina_agendar, data_agendamento)\n",
        "                else:\n",
        "                    display(HTML(\"<p>Ok, não vamos agendar agora.</p>\"))\n",
        "            # --- Fim da Lógica para Vacinas e Agendamento ---\n",
        "\n",
        "            # Exibe as opções iniciais de ajuda para o usuário\n",
        "            display(HTML(\"<h2 style='color: #FF6347;'>👋 Olá, eu sou sua rede de apoio virtual e estou aqui para te ajudar! 🌟</h2>\"))\n",
        "            display(HTML(\"<h3 style='color: #228B22;'>Como posso te ajudar hoje?</h3>\"))\n",
        "\n",
        "            # As opções do assistente virtual\n",
        "            display(HTML(\"\"\"\n",
        "              <ul>\n",
        "                <li><a href='https://link-para-video-experto.com' target='_blank' style='color: #4682B4;'>1. Chamada de vídeo com especialista online</a></li>\n",
        "                <li><a href='https://link-para-catalogo-ebook.com' target='_blank' style='color: #4682B4;'>2. Catálogos de Ebook</a></li>\n",
        "                <li>3. Tirar dúvida e desabafar - Vamos conversar! (digite sua dúvida abaixo)</li></ul>\n",
        "             \"\"\"))\n",
        "              # Lógica para interação com o usuário caso ele escolha \"Tirar dúvida e desabafar\"\n",
        "            while True:\n",
        "                escolha = input(\"Digite o número da opção escolhida ou 'fim' para finalizar: \").strip()\n",
        "                if escolha == \"fim\":\n",
        "                        display(HTML(\"<p>👋 Ok, se precisar de mais ajuda, estarei por aqui para você! Até logo!</p>\"))\n",
        "                        break\n",
        "                if escolha == \"3\":  # Opção para tirar dúvidas e desabafar\n",
        "                      display(HTML(\"<h3 style='color: #228B22;'>**Estou aqui para ouvir e ajudar! Como posso te ajudar hoje?** 🧸</h3>\"))\n",
        "                      ajuda = input(\"Escreva sua dúvida ou algo que queira desabafar: \").strip()\n",
        "                      print(f\"Estou processando sua dúvida ou desabafo: {ajuda} 🌍\")\n",
        "\n",
        "                   # Aqui você pode adicionar uma lógica para responder com base na dúvida\n",
        "                      resposta = chat.send_message(ajuda)\n",
        "                      print(\"Resposta: \", resposta.text)\n",
        "\n",
        "                elif escolha == \"1\":\n",
        "                      print(\"Você escolheu a chamada de vídeo com especialista online. Você pode agendar clicando no link \")\n",
        "                      display(HTML(\"\"\"<ul> <li><a href='https://link-para-video-experto.com' target='_blank' style='color: #4682B4;'>1. Chamada de vídeo com especialista online</a></li>\n",
        "                \"\"\"))\n",
        "                elif escolha == \"2\":\n",
        "                      print(\"Você escolheu os catálogos de Ebook. Você pode acessar clicando no link .\")\n",
        "                      display(HTML(\"\"\"<ul> <li><a href='https://link-para-catalogo-ebook.com' target='_blank' style='color: #4682B4;'>2. Catálogo de Ebook</a></li>\n",
        "                \"\"\"))\n",
        "                else:\n",
        "                      print(\"Opção inválida. Tente novamente!\")\n",
        "\n",
        "    except ValueError:\n",
        "        display(HTML(\"<p style='color: #FF0000;'>❗ Entrada inválida. Por favor, insira um número para a idade do bebê.</p>\"))\n",
        "    except Exception as e:\n",
        "        print(f\"Ocorreu um erro inesperado: {e}\")\n",
        "\n",
        "\n",
        "# Chama a função principal para iniciar o assistente\n",
        "assistente_virtual()"
      ],
      "metadata": {
        "id": "ljsTlTN6lzkq",
        "colab": {
          "base_uri": "https://localhost:8080/",
          "height": 910
        },
        "outputId": "6fec0807-4ea4-4057-f717-a9ccfea1c6c7"
      },
      "execution_count": 156,
      "outputs": [
        {
          "output_type": "display_data",
          "data": {
            "text/plain": [
              "<IPython.core.display.HTML object>"
            ],
            "text/html": [
              "<h2 style='color: #FF6347;'>👋 Olá, eu sou sua rede de apoio virtual e estou aqui para te ajudar! 🌟</h2>"
            ]
          },
          "metadata": {}
        },
        {
          "name": "stdout",
          "output_type": "stream",
          "text": [
            "Quantos meses tem o seu bebê?🍼2\n"
          ]
        },
        {
          "output_type": "display_data",
          "data": {
            "text/plain": [
              "<IPython.core.display.HTML object>"
            ],
            "text/html": [
              "<h2 style='color: #4682B4;'>🎉 Seu bebê tem 2 meses! 🎉</h2>"
            ]
          },
          "metadata": {}
        },
        {
          "output_type": "display_data",
          "data": {
            "text/plain": [
              "<IPython.core.display.HTML object>"
            ],
            "text/html": [
              "<h3 style='color: #4682B4;'>**Cuidados com Bebê de 0 a 2 meses** 🛏️</h3>"
            ]
          },
          "metadata": {}
        },
        {
          "output_type": "display_data",
          "data": {
            "text/plain": [
              "<IPython.core.display.HTML object>"
            ],
            "text/html": [
              "<ul><li>🌙 Sono: O bebê dorme entre 14-17 horas por dia.</li></ul>"
            ]
          },
          "metadata": {}
        },
        {
          "output_type": "display_data",
          "data": {
            "text/plain": [
              "<IPython.core.display.HTML object>"
            ],
            "text/html": [
              "<ul><li>🥛 Alimentação: Leite materno ou fórmula a cada 2-3 horas.</li></ul>"
            ]
          },
          "metadata": {}
        },
        {
          "output_type": "display_data",
          "data": {
            "text/plain": [
              "<IPython.core.display.HTML object>"
            ],
            "text/html": [
              "<ul><li>🧸 Brincadeiras: Converse, cante e faça sons suaves.</li></ul>"
            ]
          },
          "metadata": {}
        },
        {
          "output_type": "display_data",
          "data": {
            "text/plain": [
              "<IPython.core.display.HTML object>"
            ],
            "text/html": [
              "<ul><li>💉 Vacinas: Acompanhe a vacinação do seu bebê.</li></ul>"
            ]
          },
          "metadata": {}
        },
        {
          "output_type": "display_data",
          "data": {
            "text/plain": [
              "<IPython.core.display.HTML object>"
            ],
            "text/html": [
              "<h3 style='color: #4682B4;'> A cada erro, há uma chance de aprender e melhorar como pais.  </h2>"
            ]
          },
          "metadata": {}
        },
        {
          "output_type": "display_data",
          "data": {
            "text/plain": [
              "<IPython.core.display.HTML object>"
            ],
            "text/html": [
              "<p style='color: #228B22;'>💉 Para 2 meses, as vacinas recomendadas podem incluir: **Pentavalente (DTP/Hib/Hep B - 1ª dose), VIP (Poliomielite inativada - 1ª dose), Pneumocócica 10V (1ª dose), Rotavírus (1ª dose)**.</p>"
            ]
          },
          "metadata": {}
        },
        {
          "name": "stdout",
          "output_type": "stream",
          "text": [
            "Deseja agendar uma vacina no Google Calendar? (sim/não): não\n"
          ]
        },
        {
          "output_type": "display_data",
          "data": {
            "text/plain": [
              "<IPython.core.display.HTML object>"
            ],
            "text/html": [
              "<p>Ok, não vamos agendar agora.</p>"
            ]
          },
          "metadata": {}
        },
        {
          "output_type": "display_data",
          "data": {
            "text/plain": [
              "<IPython.core.display.HTML object>"
            ],
            "text/html": [
              "<h2 style='color: #FF6347;'>👋 Olá, eu sou sua rede de apoio virtual e estou aqui para te ajudar! 🌟</h2>"
            ]
          },
          "metadata": {}
        },
        {
          "output_type": "display_data",
          "data": {
            "text/plain": [
              "<IPython.core.display.HTML object>"
            ],
            "text/html": [
              "<h3 style='color: #228B22;'>Como posso te ajudar hoje?</h3>"
            ]
          },
          "metadata": {}
        },
        {
          "output_type": "display_data",
          "data": {
            "text/plain": [
              "<IPython.core.display.HTML object>"
            ],
            "text/html": [
              "\n",
              "              <ul>\n",
              "                <li><a href='https://link-para-video-experto.com' target='_blank' style='color: #4682B4;'>1. Chamada de vídeo com especialista online</a></li>\n",
              "                <li><a href='https://link-para-catalogo-ebook.com' target='_blank' style='color: #4682B4;'>2. Catálogos de Ebook</a></li>\n",
              "                <li>3. Tirar dúvida e desabafar - Vamos conversar! (digite sua dúvida abaixo)</li>\n",
              "              </ul>\n",
              "             "
            ]
          },
          "metadata": {}
        },
        {
          "output_type": "stream",
          "name": "stdout",
          "text": [
            "Digite o número da opção escolhida ou 'fim' para finalizar: 2\n",
            "Você escolheu os catálogos de Ebook. Você pode acessar clicando no link .\n"
          ]
        },
        {
          "output_type": "display_data",
          "data": {
            "text/plain": [
              "<IPython.core.display.HTML object>"
            ],
            "text/html": [
              "<ul> <li><a href='https://link-para-catalogo-ebook.com' target='_blank' style='color: #4682B4;'>1. Chamada de vídeo com especialista online</a></li>\n",
              "                "
            ]
          },
          "metadata": {}
        },
        {
          "output_type": "error",
          "ename": "KeyboardInterrupt",
          "evalue": "Interrupted by user",
          "traceback": [
            "\u001b[0;31m---------------------------------------------------------------------------\u001b[0m",
            "\u001b[0;31mKeyboardInterrupt\u001b[0m                         Traceback (most recent call last)",
            "\u001b[0;32m<ipython-input-156-5abb09bb3a7a>\u001b[0m in \u001b[0;36m<cell line: 0>\u001b[0;34m()\u001b[0m\n\u001b[1;32m    374\u001b[0m \u001b[0;34m\u001b[0m\u001b[0m\n\u001b[1;32m    375\u001b[0m \u001b[0;31m# Chama a função principal para iniciar o assistente\u001b[0m\u001b[0;34m\u001b[0m\u001b[0;34m\u001b[0m\u001b[0m\n\u001b[0;32m--> 376\u001b[0;31m \u001b[0massistente_virtual\u001b[0m\u001b[0;34m(\u001b[0m\u001b[0;34m)\u001b[0m\u001b[0;34m\u001b[0m\u001b[0;34m\u001b[0m\u001b[0m\n\u001b[0m",
            "\u001b[0;32m<ipython-input-156-5abb09bb3a7a>\u001b[0m in \u001b[0;36massistente_virtual\u001b[0;34m()\u001b[0m\n\u001b[1;32m    343\u001b[0m               \u001b[0;31m# Lógica para interação com o usuário caso ele escolha \"Tirar dúvida e desabafar\"\u001b[0m\u001b[0;34m\u001b[0m\u001b[0;34m\u001b[0m\u001b[0m\n\u001b[1;32m    344\u001b[0m             \u001b[0;32mwhile\u001b[0m \u001b[0;32mTrue\u001b[0m\u001b[0;34m:\u001b[0m\u001b[0;34m\u001b[0m\u001b[0;34m\u001b[0m\u001b[0m\n\u001b[0;32m--> 345\u001b[0;31m                 \u001b[0mescolha\u001b[0m \u001b[0;34m=\u001b[0m \u001b[0minput\u001b[0m\u001b[0;34m(\u001b[0m\u001b[0;34m\"Digite o número da opção escolhida ou 'fim' para finalizar: \"\u001b[0m\u001b[0;34m)\u001b[0m\u001b[0;34m.\u001b[0m\u001b[0mstrip\u001b[0m\u001b[0;34m(\u001b[0m\u001b[0;34m)\u001b[0m\u001b[0;34m\u001b[0m\u001b[0;34m\u001b[0m\u001b[0m\n\u001b[0m\u001b[1;32m    346\u001b[0m                 \u001b[0;32mif\u001b[0m \u001b[0mescolha\u001b[0m \u001b[0;34m==\u001b[0m \u001b[0;34m\"fim\"\u001b[0m\u001b[0;34m:\u001b[0m\u001b[0;34m\u001b[0m\u001b[0;34m\u001b[0m\u001b[0m\n\u001b[1;32m    347\u001b[0m                         \u001b[0mdisplay\u001b[0m\u001b[0;34m(\u001b[0m\u001b[0mHTML\u001b[0m\u001b[0;34m(\u001b[0m\u001b[0;34m\"<p>👋 Ok, se precisar de mais ajuda, estarei por aqui para você! Até logo!</p>\"\u001b[0m\u001b[0;34m)\u001b[0m\u001b[0;34m)\u001b[0m\u001b[0;34m\u001b[0m\u001b[0;34m\u001b[0m\u001b[0m\n",
            "\u001b[0;32m/usr/local/lib/python3.11/dist-packages/ipykernel/kernelbase.py\u001b[0m in \u001b[0;36mraw_input\u001b[0;34m(self, prompt)\u001b[0m\n\u001b[1;32m   1175\u001b[0m                 \u001b[0;34m\"raw_input was called, but this frontend does not support input requests.\"\u001b[0m\u001b[0;34m\u001b[0m\u001b[0;34m\u001b[0m\u001b[0m\n\u001b[1;32m   1176\u001b[0m             )\n\u001b[0;32m-> 1177\u001b[0;31m         return self._input_request(\n\u001b[0m\u001b[1;32m   1178\u001b[0m             \u001b[0mstr\u001b[0m\u001b[0;34m(\u001b[0m\u001b[0mprompt\u001b[0m\u001b[0;34m)\u001b[0m\u001b[0;34m,\u001b[0m\u001b[0;34m\u001b[0m\u001b[0;34m\u001b[0m\u001b[0m\n\u001b[1;32m   1179\u001b[0m             \u001b[0mself\u001b[0m\u001b[0;34m.\u001b[0m\u001b[0m_parent_ident\u001b[0m\u001b[0;34m[\u001b[0m\u001b[0;34m\"shell\"\u001b[0m\u001b[0;34m]\u001b[0m\u001b[0;34m,\u001b[0m\u001b[0;34m\u001b[0m\u001b[0;34m\u001b[0m\u001b[0m\n",
            "\u001b[0;32m/usr/local/lib/python3.11/dist-packages/ipykernel/kernelbase.py\u001b[0m in \u001b[0;36m_input_request\u001b[0;34m(self, prompt, ident, parent, password)\u001b[0m\n\u001b[1;32m   1217\u001b[0m             \u001b[0;32mexcept\u001b[0m \u001b[0mKeyboardInterrupt\u001b[0m\u001b[0;34m:\u001b[0m\u001b[0;34m\u001b[0m\u001b[0;34m\u001b[0m\u001b[0m\n\u001b[1;32m   1218\u001b[0m                 \u001b[0;31m# re-raise KeyboardInterrupt, to truncate traceback\u001b[0m\u001b[0;34m\u001b[0m\u001b[0;34m\u001b[0m\u001b[0m\n\u001b[0;32m-> 1219\u001b[0;31m                 \u001b[0;32mraise\u001b[0m \u001b[0mKeyboardInterrupt\u001b[0m\u001b[0;34m(\u001b[0m\u001b[0;34m\"Interrupted by user\"\u001b[0m\u001b[0;34m)\u001b[0m \u001b[0;32mfrom\u001b[0m \u001b[0;32mNone\u001b[0m\u001b[0;34m\u001b[0m\u001b[0;34m\u001b[0m\u001b[0m\n\u001b[0m\u001b[1;32m   1220\u001b[0m             \u001b[0;32mexcept\u001b[0m \u001b[0mException\u001b[0m\u001b[0;34m:\u001b[0m\u001b[0;34m\u001b[0m\u001b[0;34m\u001b[0m\u001b[0m\n\u001b[1;32m   1221\u001b[0m                 \u001b[0mself\u001b[0m\u001b[0;34m.\u001b[0m\u001b[0mlog\u001b[0m\u001b[0;34m.\u001b[0m\u001b[0mwarning\u001b[0m\u001b[0;34m(\u001b[0m\u001b[0;34m\"Invalid Message:\"\u001b[0m\u001b[0;34m,\u001b[0m \u001b[0mexc_info\u001b[0m\u001b[0;34m=\u001b[0m\u001b[0;32mTrue\u001b[0m\u001b[0;34m)\u001b[0m\u001b[0;34m\u001b[0m\u001b[0;34m\u001b[0m\u001b[0m\n",
            "\u001b[0;31mKeyboardInterrupt\u001b[0m: Interrupted by user"
          ]
        },
        {
          "name": "stdout",
          "output_type": "stream",
          "text": [
            "Digite o número da opção escolhida ou 'fim' para finalizar: fim\n"
          ]
        }
      ]
    },
    {
      "cell_type": "markdown",
      "metadata": {
        "id": "ELfhKJR_CFxJ"
      },
      "source": []
    }
  ],
  "metadata": {
    "colab": {
      "provenance": [],
      "authorship_tag": "ABX9TyMnSvyXAR/+FKpARSg86YEn",
      "include_colab_link": true
    },
    "kernelspec": {
      "display_name": "Python 3",
      "name": "python3"
    },
    "language_info": {
      "name": "python"
    }
  },
  "nbformat": 4,
  "nbformat_minor": 0
}